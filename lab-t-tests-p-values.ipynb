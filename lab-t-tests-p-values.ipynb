{
 "cells": [
  {
   "cell_type": "markdown",
   "id": "79fd4326-be91-4e6e-a561-e3f49f7f5fd9",
   "metadata": {},
   "source": [
    "## Lab | Inferential statistics - T-test & P-value"
   ]
  },
  {
   "cell_type": "markdown",
   "id": "713d8079-a6a1-4179-a5c3-9cb7ef01bb17",
   "metadata": {
    "tags": []
   },
   "source": [
    "**Instructions**\n",
    "### Excercise 1\n",
    "\n",
    "We will have another simple example on `two sample t test` (pooled- when the variances are equal). But this time this is a one sided t-test\n",
    "\n",
    "In a packing plant, a machine packs cartons with jars. It is supposed that a new machine will pack faster on the average than the machine currently used. To test that hypothesis, the times it takes each machine to pack ten cartons are recorded. The results, in seconds, are shown in the tables in the file `files_for_lab/machine.txt.` Assume that there is sufficient evidence to conduct the t test, does the data provide sufficient evidence to show if one machine is better than the other"
   ]
  },
  {
   "cell_type": "code",
   "execution_count": 1,
   "id": "cbbbb8c0-ad89-445f-a558-cdec34b441bf",
   "metadata": {},
   "outputs": [],
   "source": [
    "import pandas as pd\n",
    "import numpy as np\n",
    "import scipy.stats as st"
   ]
  },
  {
   "cell_type": "code",
   "execution_count": 2,
   "id": "77f75cbc-cc66-4849-92b4-421c20a0af32",
   "metadata": {},
   "outputs": [
    {
     "data": {
      "text/html": [
       "<div>\n",
       "<style scoped>\n",
       "    .dataframe tbody tr th:only-of-type {\n",
       "        vertical-align: middle;\n",
       "    }\n",
       "\n",
       "    .dataframe tbody tr th {\n",
       "        vertical-align: top;\n",
       "    }\n",
       "\n",
       "    .dataframe thead th {\n",
       "        text-align: right;\n",
       "    }\n",
       "</style>\n",
       "<table border=\"1\" class=\"dataframe\">\n",
       "  <thead>\n",
       "    <tr style=\"text-align: right;\">\n",
       "      <th></th>\n",
       "      <th>New machine\\t    Old machine</th>\n",
       "    </tr>\n",
       "  </thead>\n",
       "  <tbody>\n",
       "    <tr>\n",
       "      <th>0</th>\n",
       "      <td>42.1\\t        42.7</td>\n",
       "    </tr>\n",
       "    <tr>\n",
       "      <th>1</th>\n",
       "      <td>41\\t            43.6</td>\n",
       "    </tr>\n",
       "    <tr>\n",
       "      <th>2</th>\n",
       "      <td>41.3\\t        43.8</td>\n",
       "    </tr>\n",
       "    <tr>\n",
       "      <th>3</th>\n",
       "      <td>41.8\\t        43.3</td>\n",
       "    </tr>\n",
       "    <tr>\n",
       "      <th>4</th>\n",
       "      <td>42.4\\t        42.5</td>\n",
       "    </tr>\n",
       "    <tr>\n",
       "      <th>5</th>\n",
       "      <td>42.8\\t        43.5</td>\n",
       "    </tr>\n",
       "    <tr>\n",
       "      <th>6</th>\n",
       "      <td>43.2\\t        43.1</td>\n",
       "    </tr>\n",
       "    <tr>\n",
       "      <th>7</th>\n",
       "      <td>42.3\\t        41.7</td>\n",
       "    </tr>\n",
       "    <tr>\n",
       "      <th>8</th>\n",
       "      <td>41.8\\t        44</td>\n",
       "    </tr>\n",
       "    <tr>\n",
       "      <th>9</th>\n",
       "      <td>42.7\\t        44.1</td>\n",
       "    </tr>\n",
       "  </tbody>\n",
       "</table>\n",
       "</div>"
      ],
      "text/plain": [
       "  New machine\\t    Old machine\n",
       "0           42.1\\t        42.7\n",
       "1         41\\t            43.6\n",
       "2           41.3\\t        43.8\n",
       "3           41.8\\t        43.3\n",
       "4           42.4\\t        42.5\n",
       "5           42.8\\t        43.5\n",
       "6           43.2\\t        43.1\n",
       "7           42.3\\t        41.7\n",
       "8             41.8\\t        44\n",
       "9           42.7\\t        44.1"
      ]
     },
     "execution_count": 2,
     "metadata": {},
     "output_type": "execute_result"
    }
   ],
   "source": [
    "data = pd.read_csv('files_for_lab/machine.txt')\n",
    "data"
   ]
  },
  {
   "cell_type": "code",
   "execution_count": 3,
   "id": "c2ee02d9-d9a4-4c66-ad8c-53df25f9d04f",
   "metadata": {},
   "outputs": [
    {
     "data": {
      "text/html": [
       "<div>\n",
       "<style scoped>\n",
       "    .dataframe tbody tr th:only-of-type {\n",
       "        vertical-align: middle;\n",
       "    }\n",
       "\n",
       "    .dataframe tbody tr th {\n",
       "        vertical-align: top;\n",
       "    }\n",
       "\n",
       "    .dataframe thead th {\n",
       "        text-align: right;\n",
       "    }\n",
       "</style>\n",
       "<table border=\"1\" class=\"dataframe\">\n",
       "  <thead>\n",
       "    <tr style=\"text-align: right;\">\n",
       "      <th></th>\n",
       "      <th>New machine</th>\n",
       "      <th>Old machine</th>\n",
       "    </tr>\n",
       "  </thead>\n",
       "  <tbody>\n",
       "    <tr>\n",
       "      <th>0</th>\n",
       "      <td>42.1</td>\n",
       "      <td>42.7</td>\n",
       "    </tr>\n",
       "    <tr>\n",
       "      <th>1</th>\n",
       "      <td>41.0</td>\n",
       "      <td>43.6</td>\n",
       "    </tr>\n",
       "    <tr>\n",
       "      <th>2</th>\n",
       "      <td>41.3</td>\n",
       "      <td>43.8</td>\n",
       "    </tr>\n",
       "    <tr>\n",
       "      <th>3</th>\n",
       "      <td>41.8</td>\n",
       "      <td>43.3</td>\n",
       "    </tr>\n",
       "    <tr>\n",
       "      <th>4</th>\n",
       "      <td>42.4</td>\n",
       "      <td>42.5</td>\n",
       "    </tr>\n",
       "    <tr>\n",
       "      <th>5</th>\n",
       "      <td>42.8</td>\n",
       "      <td>43.5</td>\n",
       "    </tr>\n",
       "    <tr>\n",
       "      <th>6</th>\n",
       "      <td>43.2</td>\n",
       "      <td>43.1</td>\n",
       "    </tr>\n",
       "    <tr>\n",
       "      <th>7</th>\n",
       "      <td>42.3</td>\n",
       "      <td>41.7</td>\n",
       "    </tr>\n",
       "    <tr>\n",
       "      <th>8</th>\n",
       "      <td>41.8</td>\n",
       "      <td>44.0</td>\n",
       "    </tr>\n",
       "    <tr>\n",
       "      <th>9</th>\n",
       "      <td>42.7</td>\n",
       "      <td>44.1</td>\n",
       "    </tr>\n",
       "  </tbody>\n",
       "</table>\n",
       "</div>"
      ],
      "text/plain": [
       "   New machine      Old machine\n",
       "0         42.1             42.7\n",
       "1         41.0             43.6\n",
       "2         41.3             43.8\n",
       "3         41.8             43.3\n",
       "4         42.4             42.5\n",
       "5         42.8             43.5\n",
       "6         43.2             43.1\n",
       "7         42.3             41.7\n",
       "8         41.8             44.0\n",
       "9         42.7             44.1"
      ]
     },
     "execution_count": 3,
     "metadata": {},
     "output_type": "execute_result"
    }
   ],
   "source": [
    "data = pd.read_csv('files_for_lab/machine.txt', sep='\\t')\n",
    "data"
   ]
  },
  {
   "cell_type": "code",
   "execution_count": 4,
   "id": "f96fe639-d93d-4bd9-96f2-0cf61f4570a7",
   "metadata": {},
   "outputs": [
    {
     "data": {
      "text/plain": [
       "Index(['New machine', '    Old machine'], dtype='object')"
      ]
     },
     "execution_count": 4,
     "metadata": {},
     "output_type": "execute_result"
    }
   ],
   "source": [
    "data.columns"
   ]
  },
  {
   "cell_type": "code",
   "execution_count": 5,
   "id": "2c4b377b-ad3a-4d49-b44a-b7d6beab43d5",
   "metadata": {},
   "outputs": [],
   "source": [
    "data.columns = data.columns.str.replace(' ', '').str.lower()"
   ]
  },
  {
   "cell_type": "code",
   "execution_count": 6,
   "id": "b9f1fabf-505e-4b5c-b36e-d78bd53bc9cd",
   "metadata": {},
   "outputs": [
    {
     "data": {
      "text/plain": [
       "Index(['newmachine', 'oldmachine'], dtype='object')"
      ]
     },
     "execution_count": 6,
     "metadata": {},
     "output_type": "execute_result"
    }
   ],
   "source": [
    "data.columns"
   ]
  },
  {
   "cell_type": "markdown",
   "id": "2272bd32-e6c2-4727-8b06-39d9f4709497",
   "metadata": {},
   "source": [
    "The `null hypothesis` $(H_0)$ assumes that there is no difference in the average packing times between the two machines, while the `alternative hypothesis` $(H_1)$ assumes that the new machine packs faster on average.\n",
    "\n",
    "$ H_0: \\mu_{newMachine} = \\mu_{oldMachine} $\n",
    "\n",
    "$ H_1: \\mu_{newMachine} \\le \\mu_{oldMachine} $\n",
    "\n",
    "Confidence level = 95 %  \n",
    "$\\alpha$ = 5 %"
   ]
  },
  {
   "cell_type": "code",
   "execution_count": 7,
   "id": "3649e015-c130-466a-912a-2d5b04f63630",
   "metadata": {},
   "outputs": [
    {
     "data": {
      "text/plain": [
       "Ttest_indResult(statistic=-3.3972307061176026, pvalue=0.0016055712503872579)"
      ]
     },
     "execution_count": 7,
     "metadata": {},
     "output_type": "execute_result"
    }
   ],
   "source": [
    "st.ttest_ind(a=data.newmachine, b=data.oldmachine, alternative = 'less', equal_var=True)"
   ]
  },
  {
   "cell_type": "markdown",
   "id": "2cc49479-3252-45a5-9eda-104a5144514c",
   "metadata": {},
   "source": [
    "We use `ttest_ind` with the `alternative='less'` parameter, because we are interested in testing whether the mean of the new equipment's packing times is less than the mean of the old equipment's packing times. That is, we are looking for evidence to support the hypothesis that the new equipment packs faster than the old one.\n",
    "\n",
    "In the other hand, the `equal_var=True` parameter indicates that we assume equal variances for both samples (pooled t-test)."
   ]
  },
  {
   "cell_type": "markdown",
   "id": "ab891c12-bda3-41ae-b186-de4cfbb8dc1d",
   "metadata": {},
   "source": [
    "The `pvalue` $(0.0016)$ is **less** than the `significance value` $(0.05)$, so there is sufficient evidence to reject the null hypothesis  \n",
    "The alternative hypothesis is true:\n",
    "\n",
    "***The new machine packs faster than the old machine.***"
   ]
  },
  {
   "cell_type": "markdown",
   "id": "a3640556-5c99-48b4-9ec1-0cd06291c2a2",
   "metadata": {
    "tags": []
   },
   "source": [
    "### Excercise 2"
   ]
  },
  {
   "cell_type": "markdown",
   "id": "b42d11bb-a0b7-4262-a06c-1d182d2e2c57",
   "metadata": {},
   "source": [
    "An additional problem (not mandatory):  \n",
    "\n",
    "In this case we can't assume that the population variances are equal. Hence in this case we can not pool the variances.   \n",
    "Independent random samples of $17$ sophomores and $13$ juniors attending a large university yield the following data on grade point averages. Data is provided in the file `files_for_lab/student_gpa.txt.` At the 5% significance level, do the data provide sufficient evidence to conclude that the mean GPAs of sophomores and juniors at the university differ?\n",
    "\n",
    "For an unpooled T-test the statistics can be calculated as: \n",
    "\n",
    "$$t' = \\frac{\\bar{x_1} - \\bar{x_2}}{\\sqrt{\\frac{s_1^2}{n_1}+\\frac{s_2^2}{n_2}}}$$\n",
    "\n",
    "We use the notation $t'$ to indicate that this is an approximate, and not an exact, t-distribution.\n",
    "\n",
    "Degrees of freedom is  \n",
    "$$n_1+n_2-2$$\n",
    "\n",
    "Where:  \n",
    "\n",
    "$n_1$, $\\bar{x_1}$, $S_1$ and $n_2$, $\\bar{x_2}$, $S_2$, are the sample sizes, sample means and standard deviations of the first and second group, respectively.\n"
   ]
  },
  {
   "cell_type": "code",
   "execution_count": 8,
   "id": "4bd73d38-00f8-4bdf-ae73-32f09c91102f",
   "metadata": {},
   "outputs": [
    {
     "data": {
      "text/html": [
       "<div>\n",
       "<style scoped>\n",
       "    .dataframe tbody tr th:only-of-type {\n",
       "        vertical-align: middle;\n",
       "    }\n",
       "\n",
       "    .dataframe tbody tr th {\n",
       "        vertical-align: top;\n",
       "    }\n",
       "\n",
       "    .dataframe thead th {\n",
       "        text-align: right;\n",
       "    }\n",
       "</style>\n",
       "<table border=\"1\" class=\"dataframe\">\n",
       "  <thead>\n",
       "    <tr style=\"text-align: right;\">\n",
       "      <th></th>\n",
       "      <th>Sophomores</th>\n",
       "      <th>Juniors</th>\n",
       "    </tr>\n",
       "  </thead>\n",
       "  <tbody>\n",
       "    <tr>\n",
       "      <th>0</th>\n",
       "      <td>3.04</td>\n",
       "      <td>2.56</td>\n",
       "    </tr>\n",
       "    <tr>\n",
       "      <th>1</th>\n",
       "      <td>1.71</td>\n",
       "      <td>2.77</td>\n",
       "    </tr>\n",
       "    <tr>\n",
       "      <th>2</th>\n",
       "      <td>3.30</td>\n",
       "      <td>2.70</td>\n",
       "    </tr>\n",
       "    <tr>\n",
       "      <th>3</th>\n",
       "      <td>2.88</td>\n",
       "      <td>3.00</td>\n",
       "    </tr>\n",
       "    <tr>\n",
       "      <th>4</th>\n",
       "      <td>2.11</td>\n",
       "      <td>2.98</td>\n",
       "    </tr>\n",
       "    <tr>\n",
       "      <th>5</th>\n",
       "      <td>2.60</td>\n",
       "      <td>3.47</td>\n",
       "    </tr>\n",
       "    <tr>\n",
       "      <th>6</th>\n",
       "      <td>2.92</td>\n",
       "      <td>3.26</td>\n",
       "    </tr>\n",
       "    <tr>\n",
       "      <th>7</th>\n",
       "      <td>3.60</td>\n",
       "      <td>3.20</td>\n",
       "    </tr>\n",
       "    <tr>\n",
       "      <th>8</th>\n",
       "      <td>2.28</td>\n",
       "      <td>3.19</td>\n",
       "    </tr>\n",
       "    <tr>\n",
       "      <th>9</th>\n",
       "      <td>2.82</td>\n",
       "      <td>2.65</td>\n",
       "    </tr>\n",
       "    <tr>\n",
       "      <th>10</th>\n",
       "      <td>3.03</td>\n",
       "      <td>3.00</td>\n",
       "    </tr>\n",
       "    <tr>\n",
       "      <th>11</th>\n",
       "      <td>3.13</td>\n",
       "      <td>3.39</td>\n",
       "    </tr>\n",
       "    <tr>\n",
       "      <th>12</th>\n",
       "      <td>2.86</td>\n",
       "      <td>2.58</td>\n",
       "    </tr>\n",
       "    <tr>\n",
       "      <th>13</th>\n",
       "      <td>3.49</td>\n",
       "      <td>NaN</td>\n",
       "    </tr>\n",
       "    <tr>\n",
       "      <th>14</th>\n",
       "      <td>3.11</td>\n",
       "      <td>NaN</td>\n",
       "    </tr>\n",
       "    <tr>\n",
       "      <th>15</th>\n",
       "      <td>2.13</td>\n",
       "      <td>NaN</td>\n",
       "    </tr>\n",
       "    <tr>\n",
       "      <th>16</th>\n",
       "      <td>3.27</td>\n",
       "      <td>NaN</td>\n",
       "    </tr>\n",
       "  </tbody>\n",
       "</table>\n",
       "</div>"
      ],
      "text/plain": [
       "    Sophomores  Juniors\n",
       "0         3.04     2.56\n",
       "1         1.71     2.77\n",
       "2         3.30     2.70\n",
       "3         2.88     3.00\n",
       "4         2.11     2.98\n",
       "5         2.60     3.47\n",
       "6         2.92     3.26\n",
       "7         3.60     3.20\n",
       "8         2.28     3.19\n",
       "9         2.82     2.65\n",
       "10        3.03     3.00\n",
       "11        3.13     3.39\n",
       "12        2.86     2.58\n",
       "13        3.49      NaN\n",
       "14        3.11      NaN\n",
       "15        2.13      NaN\n",
       "16        3.27      NaN"
      ]
     },
     "execution_count": 8,
     "metadata": {},
     "output_type": "execute_result"
    }
   ],
   "source": [
    "gpa = pd.read_csv('files_for_lab/student_gpa.txt', sep='\\t')\n",
    "gpa"
   ]
  },
  {
   "cell_type": "code",
   "execution_count": 9,
   "id": "44c8cb01-30db-4bb0-adfe-a7a404ab99be",
   "metadata": {},
   "outputs": [
    {
     "data": {
      "text/plain": [
       "Index(['sophomores', 'juniors'], dtype='object')"
      ]
     },
     "execution_count": 9,
     "metadata": {},
     "output_type": "execute_result"
    }
   ],
   "source": [
    "gpa.columns = gpa.columns.str.lower()\n",
    "gpa.columns"
   ]
  },
  {
   "cell_type": "code",
   "execution_count": 24,
   "id": "05ec5b53-40ef-419d-a50d-4926cc50261e",
   "metadata": {},
   "outputs": [
    {
     "data": {
      "text/plain": [
       "[2.56, 2.77, 2.7, 3.0, 2.98, 3.47, 3.26, 3.2, 3.19, 2.65, 3.0, 3.39, 2.58]"
      ]
     },
     "execution_count": 24,
     "metadata": {},
     "output_type": "execute_result"
    }
   ],
   "source": [
    "# Remove rows with NaN values\n",
    "gpa_juniors = [row for row in gpa.juniors if not np.isnan(row)]\n",
    "gpa_juniors"
   ]
  },
  {
   "cell_type": "markdown",
   "id": "0b90cc8d-e572-411d-938a-a494e461573d",
   "metadata": {},
   "source": [
    "The `null hypothesis`  \n",
    "$(H_0)$ assumes that there is ***no difference*** in the grade points averages between the sophomores and the juniors.  \n",
    "The `alternative hypothesis` $(H_1)$ assumes that the gpa differs between one group and the other.\n",
    "\n",
    "$ H_0: \\mu_{sophomores} = \\mu_{juniors} $\n",
    "\n",
    "$ H_1: \\mu_{sophomores} \\neq \\mu_{juniors} $\n",
    "\n",
    "Confidence level = 95 %  \n",
    "$\\alpha$ = 5 %"
   ]
  },
  {
   "cell_type": "code",
   "execution_count": 11,
   "id": "a28eabe1-6ef0-43e2-b8c7-d29920d32245",
   "metadata": {},
   "outputs": [
    {
     "data": {
      "text/plain": [
       "Ttest_indResult(statistic=nan, pvalue=nan)"
      ]
     },
     "execution_count": 11,
     "metadata": {},
     "output_type": "execute_result"
    }
   ],
   "source": [
    "# Perform unpooled two-sample t-test\n",
    "st.ttest_ind(a=gpa.sophomores, b=gpa_juniors, alternative = 'two-sided', equal_var=False)"
   ]
  },
  {
   "cell_type": "markdown",
   "id": "0cbfdeba-9ace-4313-b92c-5ead262318f3",
   "metadata": {},
   "source": [
    "Since the pvalue (0.36) is greater than the significance value (0.05), we can say that there is not enough evidence to reject the null hypothesis.  \n",
    "\n",
    "***We cannot conclude that the mean GPAs of sophomores and juniors differ significantly.***"
   ]
  }
 ],
 "metadata": {
  "kernelspec": {
   "display_name": "Python 3 (ipykernel)",
   "language": "python",
   "name": "python3"
  },
  "language_info": {
   "codemirror_mode": {
    "name": "ipython",
    "version": 3
   },
   "file_extension": ".py",
   "mimetype": "text/x-python",
   "name": "python",
   "nbconvert_exporter": "python",
   "pygments_lexer": "ipython3",
   "version": "3.10.9"
  }
 },
 "nbformat": 4,
 "nbformat_minor": 5
}
